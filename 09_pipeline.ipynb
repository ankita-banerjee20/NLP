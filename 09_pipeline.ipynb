{
 "cells": [
  {
   "cell_type": "code",
   "execution_count": 1,
   "metadata": {},
   "outputs": [],
   "source": [
    "import spacy"
   ]
  },
  {
   "cell_type": "code",
   "execution_count": 2,
   "metadata": {},
   "outputs": [],
   "source": [
    "nlp = spacy.load(\"en_core_web_sm\") "
   ]
  },
  {
   "cell_type": "code",
   "execution_count": 3,
   "metadata": {},
   "outputs": [
    {
     "data": {
      "text/plain": [
       "['tok2vec', 'tagger', 'parser', 'attribute_ruler', 'lemmatizer', 'ner']"
      ]
     },
     "execution_count": 3,
     "metadata": {},
     "output_type": "execute_result"
    }
   ],
   "source": [
    "nlp.pipe_names"
   ]
  },
  {
   "cell_type": "markdown",
   "metadata": {},
   "source": [
    "#### Excersie: 1\n",
    "- Get all the proper nouns from a given text in a list and also count how many of them.\n",
    "- Proper Noun means a noun that names a particular person, place, or thing."
   ]
  },
  {
   "cell_type": "code",
   "execution_count": 4,
   "metadata": {},
   "outputs": [],
   "source": [
    "text = '''Ravi and Raju are the best friends from school days.They wanted to go for a world tour and \n",
    "visit famous cities like Paris, London, Dubai, Rome etc and also they called their another friend Mohan to take part of this world tour.\n",
    "They started their journey from Hyderabad and spent next 3 months travelling all the wonderful cities in the world and cherish a happy moments!\n",
    "'''"
   ]
  },
  {
   "cell_type": "code",
   "execution_count": 5,
   "metadata": {},
   "outputs": [],
   "source": [
    "doc1 = nlp(text)"
   ]
  },
  {
   "cell_type": "code",
   "execution_count": 10,
   "metadata": {},
   "outputs": [
    {
     "name": "stdout",
     "output_type": "stream",
     "text": [
      "[Raju, Paris, London, Dubai, Rome, Mohan, Hyderabad]\n",
      "7\n"
     ]
    }
   ],
   "source": [
    "prop_n = []\n",
    "for token in doc1:\n",
    "    if spacy.explain(token.pos_) == 'proper noun':\n",
    "        prop_n.append(token)\n",
    "\n",
    "print(prop_n)\n",
    "print(len(prop_n))\n"
   ]
  },
  {
   "cell_type": "markdown",
   "metadata": {},
   "source": [
    "#### Excersie: 2\n",
    "- Get all companies names from a given text and also the count of them."
   ]
  },
  {
   "cell_type": "code",
   "execution_count": 11,
   "metadata": {},
   "outputs": [],
   "source": [
    "text = '''The Top 5 companies in USA are Tesla, Walmart, Amazon, Microsoft, Google and the top 5 companies in \n",
    "India are Infosys, Reliance, HDFC Bank, Hindustan Unilever and Bharti Airtel'''"
   ]
  },
  {
   "cell_type": "code",
   "execution_count": 12,
   "metadata": {},
   "outputs": [],
   "source": [
    "doc2 = nlp(text)"
   ]
  },
  {
   "cell_type": "code",
   "execution_count": 17,
   "metadata": {},
   "outputs": [
    {
     "name": "stdout",
     "output_type": "stream",
     "text": [
      "Company names: [Tesla, Walmart, Amazon, Microsoft, Google, Infosys, Reliance, HDFC Bank, Hindustan Unilever, Bharti]\n",
      "Count: 10\n"
     ]
    }
   ],
   "source": [
    "company = []\n",
    "for ent in doc2.ents:\n",
    "    if ent.label_  == 'ORG':\n",
    "        company.append(ent)\n",
    "\n",
    "print(f\"Company names: {company}\")\n",
    "print(f\"Count: {len(company)}\")"
   ]
  },
  {
   "cell_type": "markdown",
   "metadata": {},
   "source": [
    "- DATE - Absolute or relative dates or periods\n",
    "- PERSON - People, including fictional\n",
    "- GPE - Countries, cities, states\n",
    "- LOC - Non-GPE locations, mountain ranges, bodies of water\n",
    "- MONEY - Monetary values, including unit\n",
    "- TIME - Times smaller than a day\n",
    "- PRODUCT - Objects, vehicles, foods, etc. (not services)\n",
    "- CARDINAL - Numerals that do not fall under another type\n",
    "- ORDINAL - \"first\", \"second\", etc.\n",
    "- QUANTITY - Measurements, as of weight or distance\n",
    "- EVENT - Named hurricanes, battles, wars, sports events, etc.\n",
    "- FAC - Buildings, airports, highways, bridges, etc.\n",
    "- LANGUAGE - Any named language\n",
    "- LAW - Named documents made into laws.\n",
    "- NORP - Nationalities or religious or political groups\n",
    "- PERCENT - Percentage, including \"%\"\n",
    "- WORK_OF_ART - Titles of books, songs, etc."
   ]
  }
 ],
 "metadata": {
  "kernelspec": {
   "display_name": "Python 3",
   "language": "python",
   "name": "python3"
  },
  "language_info": {
   "codemirror_mode": {
    "name": "ipython",
    "version": 3
   },
   "file_extension": ".py",
   "mimetype": "text/x-python",
   "name": "python",
   "nbconvert_exporter": "python",
   "pygments_lexer": "ipython3",
   "version": "3.11.5"
  }
 },
 "nbformat": 4,
 "nbformat_minor": 2
}

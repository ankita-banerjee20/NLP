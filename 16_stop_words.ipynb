{
 "cells": [
  {
   "cell_type": "markdown",
   "metadata": {},
   "source": [
    "#### Stop Words: Exercise\n"
   ]
  },
  {
   "cell_type": "code",
   "execution_count": 35,
   "metadata": {},
   "outputs": [],
   "source": [
    "import spacy"
   ]
  },
  {
   "cell_type": "code",
   "execution_count": null,
   "metadata": {},
   "outputs": [],
   "source": [
    "nlp = spacy.load(\"en_core_web_sm\")"
   ]
  },
  {
   "cell_type": "markdown",
   "metadata": {},
   "source": [
    "**Exercise1:**\n",
    "- From a Given Text, Count the number of stop words in it.\n",
    "- Print the percentage of stop word tokens compared to all tokens in a given text."
   ]
  },
  {
   "cell_type": "code",
   "execution_count": 36,
   "metadata": {},
   "outputs": [],
   "source": [
    "text = '''\n",
    "Thor: Love and Thunder is a 2022 American superhero film based on Marvel Comics featuring the character Thor, produced by Marvel Studios and \n",
    "distributed by Walt Disney Studios Motion Pictures. It is the sequel to Thor: Ragnarok (2017) and the 29th film in the Marvel Cinematic Universe (MCU).\n",
    "The film is directed by Taika Waititi, who co-wrote the script with Jennifer Kaytin Robinson, and stars Chris Hemsworth as Thor alongside Christian Bale, Tessa Thompson,\n",
    "Jaimie Alexander, Waititi, Russell Crowe, and Natalie Portman. In the film, Thor attempts to find inner peace, but must return to action and recruit Valkyrie (Thompson),\n",
    "Korg (Waititi), and Jane Foster (Portman)—who is now the Mighty Thor—to stop Gorr the God Butcher (Bale) from eliminating all gods.\n",
    "'''"
   ]
  },
  {
   "cell_type": "code",
   "execution_count": 37,
   "metadata": {},
   "outputs": [],
   "source": [
    "doc = nlp(text)"
   ]
  },
  {
   "cell_type": "code",
   "execution_count": 38,
   "metadata": {},
   "outputs": [],
   "source": [
    "total_words = len(doc)"
   ]
  },
  {
   "cell_type": "code",
   "execution_count": 39,
   "metadata": {},
   "outputs": [],
   "source": [
    "stop_word = []\n",
    "\n",
    "for token in doc:\n",
    "    if token.is_stop:\n",
    "        stop_word.append(token)\n"
   ]
  },
  {
   "cell_type": "code",
   "execution_count": 40,
   "metadata": {},
   "outputs": [
    {
     "name": "stdout",
     "output_type": "stream",
     "text": [
      "Total stop words count:  40\n"
     ]
    }
   ],
   "source": [
    "print(\"Total stop words count: \", len(stop_word))"
   ]
  },
  {
   "cell_type": "code",
   "execution_count": 41,
   "metadata": {},
   "outputs": [
    {
     "name": "stdout",
     "output_type": "stream",
     "text": [
      "Percentage of stop words 25.0\n"
     ]
    }
   ],
   "source": [
    "print(\"Percentage of stop words\", len(stop_word)/total_words * 100)"
   ]
  },
  {
   "cell_type": "markdown",
   "metadata": {},
   "source": [
    "**Exercise2:**\n",
    "\n",
    "- Spacy default implementation considers \"not\" as a stop word. But in some scenarios removing 'not' will completely change the meaning of the statement/text. - For Example, consider these two statements:\n",
    "\n",
    "- this is a good movie       ----> Positive Statement\n",
    "- this is not a good movie   ----> Negative Statement\n",
    "- So, after applying stopwords to those 2 texts, both will return \"good movie\" and does not respect the polarity/sentiments of text.\n",
    "\n",
    "- Now, your task is to remove this stop word \"not\" in spaCy and help in distinguishing the texts.\n",
    "\n"
   ]
  },
  {
   "cell_type": "code",
   "execution_count": 42,
   "metadata": {},
   "outputs": [
    {
     "name": "stdout",
     "output_type": "stream",
     "text": [
      "Text1: good movie\n",
      "Text2: not good movie\n"
     ]
    }
   ],
   "source": [
    "def preprocess(text):\n",
    "    doc = nlp(text)\n",
    "    no_stop_words = [token.text for token in doc if not token.is_stop]\n",
    "    return \" \".join(no_stop_words)       \n",
    "\n",
    "nlp.vocab['not'].is_stop = False\n",
    "\n",
    "positive_text = preprocess('this is a good movie')\n",
    "negative_text = preprocess('this is not a good movie')\n",
    "\n",
    "print(f\"Text1: {positive_text}\")\n",
    "print(f\"Text2: {negative_text}\")"
   ]
  },
  {
   "cell_type": "markdown",
   "metadata": {},
   "source": [
    "**Exercise3:**\n",
    "- From a given text, output the most frequently used token after removing all the stop word tokens and punctuations in it."
   ]
  },
  {
   "cell_type": "code",
   "execution_count": 43,
   "metadata": {},
   "outputs": [],
   "source": [
    "text = ''' The India men's national cricket team, also known as Team India or the Men in Blue, represents India in men's international cricket.\n",
    "It is governed by the Board of Control for Cricket in India (BCCI), and is a Full Member of the International Cricket Council (ICC) with Test,\n",
    "One Day International (ODI) and Twenty20 International (T20I) status. Cricket was introduced to India by British sailors in the 18th century, and the \n",
    "first cricket club was established in 1792. India's national cricket team played its first Test match on 25 June 1932 at Lord's, becoming the sixth team to be\n",
    "granted test cricket status.\n",
    "'''"
   ]
  },
  {
   "cell_type": "code",
   "execution_count": 44,
   "metadata": {},
   "outputs": [],
   "source": [
    "new_doc = nlp(text)"
   ]
  },
  {
   "cell_type": "code",
   "execution_count": 45,
   "metadata": {},
   "outputs": [],
   "source": [
    "words = []\n",
    "\n",
    "for token in new_doc:\n",
    "    if not (token.is_stop or token.is_punct or token.text == '\\n'):\n",
    "        words.append(token.text)"
   ]
  },
  {
   "cell_type": "code",
   "execution_count": 46,
   "metadata": {},
   "outputs": [
    {
     "data": {
      "text/plain": [
       "[' ',\n",
       " 'India',\n",
       " 'men',\n",
       " 'national',\n",
       " 'cricket',\n",
       " 'team',\n",
       " 'known',\n",
       " 'Team',\n",
       " 'India',\n",
       " 'Men',\n",
       " 'Blue',\n",
       " 'represents',\n",
       " 'India',\n",
       " 'men',\n",
       " 'international',\n",
       " 'cricket',\n",
       " 'governed',\n",
       " 'Board',\n",
       " 'Control',\n",
       " 'Cricket',\n",
       " 'India',\n",
       " 'BCCI',\n",
       " 'Member',\n",
       " 'International',\n",
       " 'Cricket',\n",
       " 'Council',\n",
       " 'ICC',\n",
       " 'Test',\n",
       " 'Day',\n",
       " 'International',\n",
       " 'ODI',\n",
       " 'Twenty20',\n",
       " 'International',\n",
       " 'T20I',\n",
       " 'status',\n",
       " 'Cricket',\n",
       " 'introduced',\n",
       " 'India',\n",
       " 'British',\n",
       " 'sailors',\n",
       " '18th',\n",
       " 'century',\n",
       " 'cricket',\n",
       " 'club',\n",
       " 'established',\n",
       " '1792',\n",
       " 'India',\n",
       " 'national',\n",
       " 'cricket',\n",
       " 'team',\n",
       " 'played',\n",
       " 'Test',\n",
       " 'match',\n",
       " '25',\n",
       " 'June',\n",
       " '1932',\n",
       " 'Lord',\n",
       " 'sixth',\n",
       " 'team',\n",
       " 'granted',\n",
       " 'test',\n",
       " 'cricket',\n",
       " 'status']"
      ]
     },
     "execution_count": 46,
     "metadata": {},
     "output_type": "execute_result"
    }
   ],
   "source": [
    "words"
   ]
  },
  {
   "cell_type": "code",
   "execution_count": 47,
   "metadata": {},
   "outputs": [
    {
     "data": {
      "text/plain": [
       "{' ': 1,\n",
       " 'India': 6,\n",
       " 'men': 2,\n",
       " 'national': 2,\n",
       " 'cricket': 5,\n",
       " 'team': 3,\n",
       " 'known': 1,\n",
       " 'Team': 1,\n",
       " 'Men': 1,\n",
       " 'Blue': 1,\n",
       " 'represents': 1,\n",
       " 'international': 1,\n",
       " 'governed': 1,\n",
       " 'Board': 1,\n",
       " 'Control': 1,\n",
       " 'Cricket': 3,\n",
       " 'BCCI': 1,\n",
       " 'Member': 1,\n",
       " 'International': 3,\n",
       " 'Council': 1,\n",
       " 'ICC': 1,\n",
       " 'Test': 2,\n",
       " 'Day': 1,\n",
       " 'ODI': 1,\n",
       " 'Twenty20': 1,\n",
       " 'T20I': 1,\n",
       " 'status': 2,\n",
       " 'introduced': 1,\n",
       " 'British': 1,\n",
       " 'sailors': 1,\n",
       " '18th': 1,\n",
       " 'century': 1,\n",
       " 'club': 1,\n",
       " 'established': 1,\n",
       " '1792': 1,\n",
       " 'played': 1,\n",
       " 'match': 1,\n",
       " '25': 1,\n",
       " 'June': 1,\n",
       " '1932': 1,\n",
       " 'Lord': 1,\n",
       " 'sixth': 1,\n",
       " 'granted': 1,\n",
       " 'test': 1}"
      ]
     },
     "execution_count": 47,
     "metadata": {},
     "output_type": "execute_result"
    }
   ],
   "source": [
    "from collections import Counter\n",
    "cont = dict(Counter(words))\n",
    "cont"
   ]
  },
  {
   "cell_type": "code",
   "execution_count": 48,
   "metadata": {},
   "outputs": [],
   "source": [
    "Keymax = max(zip(cont.values(), cont.keys()))[1]"
   ]
  },
  {
   "cell_type": "code",
   "execution_count": 49,
   "metadata": {},
   "outputs": [
    {
     "data": {
      "text/plain": [
       "'India'"
      ]
     },
     "execution_count": 49,
     "metadata": {},
     "output_type": "execute_result"
    }
   ],
   "source": [
    "Keymax"
   ]
  },
  {
   "cell_type": "code",
   "execution_count": null,
   "metadata": {},
   "outputs": [],
   "source": []
  }
 ],
 "metadata": {
  "kernelspec": {
   "display_name": "Python 3",
   "language": "python",
   "name": "python3"
  },
  "language_info": {
   "codemirror_mode": {
    "name": "ipython",
    "version": 3
   },
   "file_extension": ".py",
   "mimetype": "text/x-python",
   "name": "python",
   "nbconvert_exporter": "python",
   "pygments_lexer": "ipython3",
   "version": "3.11.5"
  }
 },
 "nbformat": 4,
 "nbformat_minor": 2
}
